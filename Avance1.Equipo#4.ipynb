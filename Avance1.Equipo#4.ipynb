{
 "cells": [
  {
   "cell_type": "markdown",
   "metadata": {
    "id": "MYTkAs_9uJg8"
   },
   "source": [
    "# Instituto Tecnológico de Monterrey\n",
    "## Maestría en Inteligencia Artificial Aplicada\n",
    "\n",
    "\n",
    "### Equipo 4\n",
    "#### Nancy Elena Estanislao Lizárraga - A01169334\n",
    "#### Héctor Raúl Vázquez González - A00565542\n",
    "#### Gustavo Rene Ramos Ojeda - A01793599"
   ]
  },
  {
   "cell_type": "code",
   "execution_count": 1,
   "metadata": {},
   "outputs": [],
   "source": [
    "import pandas as pd\n",
    "import numpy as np\n",
    "import seaborn as sns\n",
    "\n",
    "from datetime import date\n",
    "import matplotlib.pyplot as plt\n",
    "from sklearn.decomposition import PCA\n",
    "import matplotlib as mpl\n",
    "import matplotlib.pyplot as plt\n",
    "from sklearn import preprocessing\n",
    "\n"
   ]
  },
  {
   "cell_type": "markdown",
   "metadata": {
    "id": "PDgGqcpE3Zau"
   },
   "source": [
    "# Análisis de Datos\n"
   ]
  },
  {
   "cell_type": "markdown",
   "metadata": {},
   "source": [
    "Paso 1 - Leyendo la información del set de datos"
   ]
  },
  {
   "cell_type": "code",
   "execution_count": 2,
   "metadata": {
    "id": "eZIIbxdR27FX"
   },
   "outputs": [],
   "source": [
    "# Tomando datos de la ruta local, llamando la fuente de datos dataF.csv\n",
    "datosFondeo = 'dataF.csv'"
   ]
  },
  {
   "cell_type": "code",
   "execution_count": 3,
   "metadata": {
    "colab": {
     "base_uri": "https://localhost:8080/",
     "height": 411
    },
    "id": "x6I7njK8YHQO",
    "outputId": "873b1363-740d-49d0-c814-5bf353e7af68"
   },
   "outputs": [],
   "source": [
    "# Datos originales\n",
    "fondeoDF = pd.read_csv( datosFondeo )\n",
    "\n",
    "# Cambiamos los headers\n",
    "fondeoDF.columns = ['Day', 'Month', 'Year', 'Amount Credited', 'Amount Left', 'Day Type', 'Day of Week', 'Remain Percentage']"
   ]
  },
  {
   "cell_type": "code",
   "execution_count": 4,
   "metadata": {
    "colab": {
     "base_uri": "https://localhost:8080/"
    },
    "id": "m4C4Vl9P6Mld",
    "outputId": "64717339-beb0-4b9f-aece-d38470c54ffa"
   },
   "outputs": [
    {
     "name": "stdout",
     "output_type": "stream",
     "text": [
      "<class 'pandas.core.frame.DataFrame'>\n",
      "RangeIndex: 1012 entries, 0 to 1011\n",
      "Data columns (total 8 columns):\n",
      " #   Column             Non-Null Count  Dtype  \n",
      "---  ------             --------------  -----  \n",
      " 0   Day                1012 non-null   int64  \n",
      " 1   Month              1012 non-null   int64  \n",
      " 2   Year               1012 non-null   int64  \n",
      " 3   Amount Credited    968 non-null    float64\n",
      " 4   Amount Left        968 non-null    float64\n",
      " 5   Day Type           1012 non-null   object \n",
      " 6   Day of Week        1012 non-null   int64  \n",
      " 7   Remain Percentage  968 non-null    float64\n",
      "dtypes: float64(3), int64(4), object(1)\n",
      "memory usage: 63.4+ KB\n"
     ]
    }
   ],
   "source": [
    "# Hay que determinar los tipos de datos\n",
    "fondeoDF.info()"
   ]
  },
  {
   "cell_type": "markdown",
   "metadata": {},
   "source": [
    "Paso 2 - Se realiza la limpieza de la información"
   ]
  },
  {
   "cell_type": "code",
   "execution_count": 5,
   "metadata": {},
   "outputs": [
    {
     "name": "stderr",
     "output_type": "stream",
     "text": [
      "/var/folders/5r/f5hwsp1x3hxbd27x56r_yzjw0000gp/T/ipykernel_5150/3304507252.py:5: SettingWithCopyWarning: \n",
      "A value is trying to be set on a copy of a slice from a DataFrame\n",
      "\n",
      "See the caveats in the documentation: https://pandas.pydata.org/pandas-docs/stable/user_guide/indexing.html#returning-a-view-versus-a-copy\n",
      "  fondeoDF['Date'][ row ] = date( fondeoDF['Year'][row], fondeoDF['Month'][row], fondeoDF['Day'][row])\n"
     ]
    },
    {
     "data": {
      "text/html": [
       "<div>\n",
       "<style scoped>\n",
       "    .dataframe tbody tr th:only-of-type {\n",
       "        vertical-align: middle;\n",
       "    }\n",
       "\n",
       "    .dataframe tbody tr th {\n",
       "        vertical-align: top;\n",
       "    }\n",
       "\n",
       "    .dataframe thead th {\n",
       "        text-align: right;\n",
       "    }\n",
       "</style>\n",
       "<table border=\"1\" class=\"dataframe\">\n",
       "  <thead>\n",
       "    <tr style=\"text-align: right;\">\n",
       "      <th></th>\n",
       "      <th>Day</th>\n",
       "      <th>Month</th>\n",
       "      <th>Year</th>\n",
       "      <th>Amount Credited</th>\n",
       "      <th>Amount Left</th>\n",
       "      <th>Day Type</th>\n",
       "      <th>Date</th>\n",
       "      <th>Day of Week</th>\n",
       "      <th>Remain Percentage</th>\n",
       "    </tr>\n",
       "  </thead>\n",
       "  <tbody>\n",
       "    <tr>\n",
       "      <th>0</th>\n",
       "      <td>1</td>\n",
       "      <td>6</td>\n",
       "      <td>2020</td>\n",
       "      <td>1.040468e+07</td>\n",
       "      <td>7921941.905</td>\n",
       "      <td>N</td>\n",
       "      <td>2020-06-01</td>\n",
       "      <td>1</td>\n",
       "      <td>0.238618</td>\n",
       "    </tr>\n",
       "    <tr>\n",
       "      <th>1</th>\n",
       "      <td>2</td>\n",
       "      <td>6</td>\n",
       "      <td>2020</td>\n",
       "      <td>8.616164e+06</td>\n",
       "      <td>7062377.510</td>\n",
       "      <td>N</td>\n",
       "      <td>2020-06-02</td>\n",
       "      <td>2</td>\n",
       "      <td>0.180334</td>\n",
       "    </tr>\n",
       "    <tr>\n",
       "      <th>2</th>\n",
       "      <td>3</td>\n",
       "      <td>6</td>\n",
       "      <td>2020</td>\n",
       "      <td>7.872212e+06</td>\n",
       "      <td>6372551.002</td>\n",
       "      <td>N</td>\n",
       "      <td>2020-06-03</td>\n",
       "      <td>3</td>\n",
       "      <td>0.190501</td>\n",
       "    </tr>\n",
       "    <tr>\n",
       "      <th>3</th>\n",
       "      <td>4</td>\n",
       "      <td>6</td>\n",
       "      <td>2020</td>\n",
       "      <td>7.835058e+06</td>\n",
       "      <td>6331527.590</td>\n",
       "      <td>N</td>\n",
       "      <td>2020-06-04</td>\n",
       "      <td>4</td>\n",
       "      <td>0.191898</td>\n",
       "    </tr>\n",
       "    <tr>\n",
       "      <th>4</th>\n",
       "      <td>5</td>\n",
       "      <td>6</td>\n",
       "      <td>2020</td>\n",
       "      <td>8.701642e+06</td>\n",
       "      <td>7060386.510</td>\n",
       "      <td>N</td>\n",
       "      <td>2020-06-05</td>\n",
       "      <td>5</td>\n",
       "      <td>0.188614</td>\n",
       "    </tr>\n",
       "  </tbody>\n",
       "</table>\n",
       "</div>"
      ],
      "text/plain": [
       "   Day  Month  Year  Amount Credited  Amount Left Day Type        Date  \\\n",
       "0    1      6  2020     1.040468e+07  7921941.905        N  2020-06-01   \n",
       "1    2      6  2020     8.616164e+06  7062377.510        N  2020-06-02   \n",
       "2    3      6  2020     7.872212e+06  6372551.002        N  2020-06-03   \n",
       "3    4      6  2020     7.835058e+06  6331527.590        N  2020-06-04   \n",
       "4    5      6  2020     8.701642e+06  7060386.510        N  2020-06-05   \n",
       "\n",
       "   Day of Week  Remain Percentage  \n",
       "0            1           0.238618  \n",
       "1            2           0.180334  \n",
       "2            3           0.190501  \n",
       "3            4           0.191898  \n",
       "4            5           0.188614  "
      ]
     },
     "execution_count": 5,
     "metadata": {},
     "output_type": "execute_result"
    }
   ],
   "source": [
    "#Se agrega una columna con la fecha en un objeto de tipo Date\n",
    "fondeoDF.insert(6, 'Date', True)\n",
    "\n",
    "for row in fondeoDF.index:\n",
    "    fondeoDF['Date'][ row ] = date( fondeoDF['Year'][row], fondeoDF['Month'][row], fondeoDF['Day'][row])\n",
    "\n",
    "fondeoDF.head()"
   ]
  },
  {
   "cell_type": "code",
   "execution_count": 6,
   "metadata": {},
   "outputs": [
    {
     "data": {
      "text/html": [
       "<div>\n",
       "<style scoped>\n",
       "    .dataframe tbody tr th:only-of-type {\n",
       "        vertical-align: middle;\n",
       "    }\n",
       "\n",
       "    .dataframe tbody tr th {\n",
       "        vertical-align: top;\n",
       "    }\n",
       "\n",
       "    .dataframe thead th {\n",
       "        text-align: right;\n",
       "    }\n",
       "</style>\n",
       "<table border=\"1\" class=\"dataframe\">\n",
       "  <thead>\n",
       "    <tr style=\"text-align: right;\">\n",
       "      <th></th>\n",
       "      <th>Day</th>\n",
       "      <th>Month</th>\n",
       "      <th>Year</th>\n",
       "      <th>Amount Credited</th>\n",
       "      <th>Amount Left</th>\n",
       "      <th>Day Type</th>\n",
       "      <th>Date</th>\n",
       "    </tr>\n",
       "  </thead>\n",
       "  <tbody>\n",
       "    <tr>\n",
       "      <th>0</th>\n",
       "      <td>1</td>\n",
       "      <td>6</td>\n",
       "      <td>2020</td>\n",
       "      <td>1.040468e+07</td>\n",
       "      <td>7921941.905</td>\n",
       "      <td>N</td>\n",
       "      <td>2020-06-01</td>\n",
       "    </tr>\n",
       "    <tr>\n",
       "      <th>1</th>\n",
       "      <td>2</td>\n",
       "      <td>6</td>\n",
       "      <td>2020</td>\n",
       "      <td>8.616164e+06</td>\n",
       "      <td>7062377.510</td>\n",
       "      <td>N</td>\n",
       "      <td>2020-06-02</td>\n",
       "    </tr>\n",
       "    <tr>\n",
       "      <th>2</th>\n",
       "      <td>3</td>\n",
       "      <td>6</td>\n",
       "      <td>2020</td>\n",
       "      <td>7.872212e+06</td>\n",
       "      <td>6372551.002</td>\n",
       "      <td>N</td>\n",
       "      <td>2020-06-03</td>\n",
       "    </tr>\n",
       "    <tr>\n",
       "      <th>3</th>\n",
       "      <td>4</td>\n",
       "      <td>6</td>\n",
       "      <td>2020</td>\n",
       "      <td>7.835058e+06</td>\n",
       "      <td>6331527.590</td>\n",
       "      <td>N</td>\n",
       "      <td>2020-06-04</td>\n",
       "    </tr>\n",
       "    <tr>\n",
       "      <th>4</th>\n",
       "      <td>5</td>\n",
       "      <td>6</td>\n",
       "      <td>2020</td>\n",
       "      <td>8.701642e+06</td>\n",
       "      <td>7060386.510</td>\n",
       "      <td>N</td>\n",
       "      <td>2020-06-05</td>\n",
       "    </tr>\n",
       "    <tr>\n",
       "      <th>5</th>\n",
       "      <td>6</td>\n",
       "      <td>6</td>\n",
       "      <td>2020</td>\n",
       "      <td>2.657577e+06</td>\n",
       "      <td>1226194.225</td>\n",
       "      <td>N</td>\n",
       "      <td>2020-06-06</td>\n",
       "    </tr>\n",
       "    <tr>\n",
       "      <th>7</th>\n",
       "      <td>8</td>\n",
       "      <td>6</td>\n",
       "      <td>2020</td>\n",
       "      <td>8.171846e+06</td>\n",
       "      <td>6539346.490</td>\n",
       "      <td>N</td>\n",
       "      <td>2020-06-08</td>\n",
       "    </tr>\n",
       "    <tr>\n",
       "      <th>8</th>\n",
       "      <td>9</td>\n",
       "      <td>6</td>\n",
       "      <td>2020</td>\n",
       "      <td>7.043053e+06</td>\n",
       "      <td>5402860.945</td>\n",
       "      <td>N</td>\n",
       "      <td>2020-06-09</td>\n",
       "    </tr>\n",
       "    <tr>\n",
       "      <th>9</th>\n",
       "      <td>10</td>\n",
       "      <td>6</td>\n",
       "      <td>2020</td>\n",
       "      <td>7.921840e+06</td>\n",
       "      <td>6405740.562</td>\n",
       "      <td>N</td>\n",
       "      <td>2020-06-10</td>\n",
       "    </tr>\n",
       "    <tr>\n",
       "      <th>10</th>\n",
       "      <td>11</td>\n",
       "      <td>6</td>\n",
       "      <td>2020</td>\n",
       "      <td>7.744115e+06</td>\n",
       "      <td>6086390.067</td>\n",
       "      <td>N</td>\n",
       "      <td>2020-06-11</td>\n",
       "    </tr>\n",
       "  </tbody>\n",
       "</table>\n",
       "</div>"
      ],
      "text/plain": [
       "    Day  Month  Year  Amount Credited  Amount Left Day Type        Date\n",
       "0     1      6  2020     1.040468e+07  7921941.905        N  2020-06-01\n",
       "1     2      6  2020     8.616164e+06  7062377.510        N  2020-06-02\n",
       "2     3      6  2020     7.872212e+06  6372551.002        N  2020-06-03\n",
       "3     4      6  2020     7.835058e+06  6331527.590        N  2020-06-04\n",
       "4     5      6  2020     8.701642e+06  7060386.510        N  2020-06-05\n",
       "5     6      6  2020     2.657577e+06  1226194.225        N  2020-06-06\n",
       "7     8      6  2020     8.171846e+06  6539346.490        N  2020-06-08\n",
       "8     9      6  2020     7.043053e+06  5402860.945        N  2020-06-09\n",
       "9    10      6  2020     7.921840e+06  6405740.562        N  2020-06-10\n",
       "10   11      6  2020     7.744115e+06  6086390.067        N  2020-06-11"
      ]
     },
     "execution_count": 6,
     "metadata": {},
     "output_type": "execute_result"
    }
   ],
   "source": [
    "\n",
    "# Removemos las variables innecesarias y se dejan solamente las variables numéricas que aporten al análisis\n",
    "fondeoDF.drop(columns = ['Day of Week', 'Remain Percentage'], inplace=True)\n",
    "\n",
    "# Optamos por eliminar los datos vacíos ya que existen varios fines de semana que no se fondean.\n",
    "fondeoDF.dropna( axis=0, inplace=True)\n",
    "\n",
    "fondeoDF.head(10)"
   ]
  },
  {
   "cell_type": "code",
   "execution_count": 7,
   "metadata": {},
   "outputs": [
    {
     "name": "stdout",
     "output_type": "stream",
     "text": [
      "<class 'pandas.core.frame.DataFrame'>\n",
      "Index: 968 entries, 0 to 1011\n",
      "Data columns (total 7 columns):\n",
      " #   Column           Non-Null Count  Dtype  \n",
      "---  ------           --------------  -----  \n",
      " 0   Day              968 non-null    int64  \n",
      " 1   Month            968 non-null    int64  \n",
      " 2   Year             968 non-null    int64  \n",
      " 3   Amount Credited  968 non-null    float64\n",
      " 4   Amount Left      968 non-null    float64\n",
      " 5   Day Type         968 non-null    object \n",
      " 6   Date             968 non-null    object \n",
      "dtypes: float64(2), int64(3), object(2)\n",
      "memory usage: 60.5+ KB\n"
     ]
    }
   ],
   "source": [
    "#Verificamos los datos ya una vez limpios, observando que se removieron alrededor de 40 registros\n",
    "fondeoDF.info()"
   ]
  },
  {
   "cell_type": "code",
   "execution_count": 8,
   "metadata": {},
   "outputs": [
    {
     "data": {
      "text/plain": [
       "Day                False\n",
       "Month              False\n",
       "Year               False\n",
       "Amount Credited    False\n",
       "Amount Left        False\n",
       "Day Type           False\n",
       "Date               False\n",
       "dtype: bool"
      ]
     },
     "execution_count": 8,
     "metadata": {},
     "output_type": "execute_result"
    }
   ],
   "source": [
    "# Comprobamos que ya no existen nulos\n",
    "fondeoDF.isnull().any()"
   ]
  },
  {
   "cell_type": "code",
   "execution_count": 9,
   "metadata": {},
   "outputs": [
    {
     "data": {
      "text/html": [
       "<div>\n",
       "<style scoped>\n",
       "    .dataframe tbody tr th:only-of-type {\n",
       "        vertical-align: middle;\n",
       "    }\n",
       "\n",
       "    .dataframe tbody tr th {\n",
       "        vertical-align: top;\n",
       "    }\n",
       "\n",
       "    .dataframe thead th {\n",
       "        text-align: right;\n",
       "    }\n",
       "</style>\n",
       "<table border=\"1\" class=\"dataframe\">\n",
       "  <thead>\n",
       "    <tr style=\"text-align: right;\">\n",
       "      <th></th>\n",
       "      <th>Day</th>\n",
       "      <th>Month</th>\n",
       "      <th>Year</th>\n",
       "      <th>Amount Credited</th>\n",
       "      <th>Amount Left</th>\n",
       "      <th>Day Type</th>\n",
       "      <th>Date</th>\n",
       "    </tr>\n",
       "  </thead>\n",
       "  <tbody>\n",
       "    <tr>\n",
       "      <th>0</th>\n",
       "      <td>1</td>\n",
       "      <td>6</td>\n",
       "      <td>2020</td>\n",
       "      <td>1.040468e+07</td>\n",
       "      <td>7921941.905</td>\n",
       "      <td>1</td>\n",
       "      <td>2020-06-01</td>\n",
       "    </tr>\n",
       "    <tr>\n",
       "      <th>1</th>\n",
       "      <td>2</td>\n",
       "      <td>6</td>\n",
       "      <td>2020</td>\n",
       "      <td>8.616164e+06</td>\n",
       "      <td>7062377.510</td>\n",
       "      <td>1</td>\n",
       "      <td>2020-06-02</td>\n",
       "    </tr>\n",
       "    <tr>\n",
       "      <th>2</th>\n",
       "      <td>3</td>\n",
       "      <td>6</td>\n",
       "      <td>2020</td>\n",
       "      <td>7.872212e+06</td>\n",
       "      <td>6372551.002</td>\n",
       "      <td>1</td>\n",
       "      <td>2020-06-03</td>\n",
       "    </tr>\n",
       "    <tr>\n",
       "      <th>3</th>\n",
       "      <td>4</td>\n",
       "      <td>6</td>\n",
       "      <td>2020</td>\n",
       "      <td>7.835058e+06</td>\n",
       "      <td>6331527.590</td>\n",
       "      <td>1</td>\n",
       "      <td>2020-06-04</td>\n",
       "    </tr>\n",
       "    <tr>\n",
       "      <th>4</th>\n",
       "      <td>5</td>\n",
       "      <td>6</td>\n",
       "      <td>2020</td>\n",
       "      <td>8.701642e+06</td>\n",
       "      <td>7060386.510</td>\n",
       "      <td>1</td>\n",
       "      <td>2020-06-05</td>\n",
       "    </tr>\n",
       "  </tbody>\n",
       "</table>\n",
       "</div>"
      ],
      "text/plain": [
       "   Day  Month  Year  Amount Credited  Amount Left  Day Type        Date\n",
       "0    1      6  2020     1.040468e+07  7921941.905         1  2020-06-01\n",
       "1    2      6  2020     8.616164e+06  7062377.510         1  2020-06-02\n",
       "2    3      6  2020     7.872212e+06  6372551.002         1  2020-06-03\n",
       "3    4      6  2020     7.835058e+06  6331527.590         1  2020-06-04\n",
       "4    5      6  2020     8.701642e+06  7060386.510         1  2020-06-05"
      ]
     },
     "execution_count": 9,
     "metadata": {},
     "output_type": "execute_result"
    }
   ],
   "source": [
    "# Se hace la conversión del campo Day Type para reemplazarlo por un valor de 1-2\n",
    "fondeoDF['Day Type'].replace( \"N\", 1, inplace=True)\n",
    "fondeoDF['Day Type'].replace( \"P\", 2, inplace=True)\n",
    "\n",
    "fondeoDF.head()"
   ]
  },
  {
   "cell_type": "code",
   "execution_count": 10,
   "metadata": {},
   "outputs": [
    {
     "data": {
      "text/html": [
       "<div>\n",
       "<style scoped>\n",
       "    .dataframe tbody tr th:only-of-type {\n",
       "        vertical-align: middle;\n",
       "    }\n",
       "\n",
       "    .dataframe tbody tr th {\n",
       "        vertical-align: top;\n",
       "    }\n",
       "\n",
       "    .dataframe thead th {\n",
       "        text-align: right;\n",
       "    }\n",
       "</style>\n",
       "<table border=\"1\" class=\"dataframe\">\n",
       "  <thead>\n",
       "    <tr style=\"text-align: right;\">\n",
       "      <th></th>\n",
       "      <th>Day</th>\n",
       "      <th>Month</th>\n",
       "      <th>Year</th>\n",
       "      <th>Amount Credited</th>\n",
       "      <th>Amount Left</th>\n",
       "      <th>Day Type</th>\n",
       "    </tr>\n",
       "  </thead>\n",
       "  <tbody>\n",
       "    <tr>\n",
       "      <th>count</th>\n",
       "      <td>968.000000</td>\n",
       "      <td>968.000000</td>\n",
       "      <td>968.000000</td>\n",
       "      <td>9.680000e+02</td>\n",
       "      <td>9.680000e+02</td>\n",
       "      <td>968.000000</td>\n",
       "    </tr>\n",
       "    <tr>\n",
       "      <th>mean</th>\n",
       "      <td>15.603306</td>\n",
       "      <td>6.632231</td>\n",
       "      <td>2021.341942</td>\n",
       "      <td>8.817488e+06</td>\n",
       "      <td>6.807160e+06</td>\n",
       "      <td>1.066116</td>\n",
       "    </tr>\n",
       "    <tr>\n",
       "      <th>std</th>\n",
       "      <td>8.817327</td>\n",
       "      <td>3.539272</td>\n",
       "      <td>0.847050</td>\n",
       "      <td>5.588481e+06</td>\n",
       "      <td>4.563191e+06</td>\n",
       "      <td>0.248613</td>\n",
       "    </tr>\n",
       "    <tr>\n",
       "      <th>min</th>\n",
       "      <td>1.000000</td>\n",
       "      <td>1.000000</td>\n",
       "      <td>2020.000000</td>\n",
       "      <td>2.882250e+00</td>\n",
       "      <td>-3.565154e+05</td>\n",
       "      <td>1.000000</td>\n",
       "    </tr>\n",
       "    <tr>\n",
       "      <th>25%</th>\n",
       "      <td>8.000000</td>\n",
       "      <td>3.000000</td>\n",
       "      <td>2021.000000</td>\n",
       "      <td>3.641171e+06</td>\n",
       "      <td>2.145982e+06</td>\n",
       "      <td>1.000000</td>\n",
       "    </tr>\n",
       "    <tr>\n",
       "      <th>50%</th>\n",
       "      <td>16.000000</td>\n",
       "      <td>7.000000</td>\n",
       "      <td>2021.000000</td>\n",
       "      <td>1.013495e+07</td>\n",
       "      <td>7.884900e+06</td>\n",
       "      <td>1.000000</td>\n",
       "    </tr>\n",
       "    <tr>\n",
       "      <th>75%</th>\n",
       "      <td>23.000000</td>\n",
       "      <td>10.000000</td>\n",
       "      <td>2022.000000</td>\n",
       "      <td>1.260134e+07</td>\n",
       "      <td>1.001369e+07</td>\n",
       "      <td>1.000000</td>\n",
       "    </tr>\n",
       "    <tr>\n",
       "      <th>max</th>\n",
       "      <td>31.000000</td>\n",
       "      <td>12.000000</td>\n",
       "      <td>2023.000000</td>\n",
       "      <td>3.456432e+07</td>\n",
       "      <td>2.569507e+07</td>\n",
       "      <td>2.000000</td>\n",
       "    </tr>\n",
       "  </tbody>\n",
       "</table>\n",
       "</div>"
      ],
      "text/plain": [
       "              Day       Month         Year  Amount Credited   Amount Left  \\\n",
       "count  968.000000  968.000000   968.000000     9.680000e+02  9.680000e+02   \n",
       "mean    15.603306    6.632231  2021.341942     8.817488e+06  6.807160e+06   \n",
       "std      8.817327    3.539272     0.847050     5.588481e+06  4.563191e+06   \n",
       "min      1.000000    1.000000  2020.000000     2.882250e+00 -3.565154e+05   \n",
       "25%      8.000000    3.000000  2021.000000     3.641171e+06  2.145982e+06   \n",
       "50%     16.000000    7.000000  2021.000000     1.013495e+07  7.884900e+06   \n",
       "75%     23.000000   10.000000  2022.000000     1.260134e+07  1.001369e+07   \n",
       "max     31.000000   12.000000  2023.000000     3.456432e+07  2.569507e+07   \n",
       "\n",
       "         Day Type  \n",
       "count  968.000000  \n",
       "mean     1.066116  \n",
       "std      0.248613  \n",
       "min      1.000000  \n",
       "25%      1.000000  \n",
       "50%      1.000000  \n",
       "75%      1.000000  \n",
       "max      2.000000  "
      ]
     },
     "execution_count": 10,
     "metadata": {},
     "output_type": "execute_result"
    }
   ],
   "source": [
    "# Obteniendo las características generales de nuestro dataset\n",
    "fondeoDF.describe()"
   ]
  },
  {
   "cell_type": "markdown",
   "metadata": {},
   "source": [
    "Paso 3 - Se realiza un análisis de la información"
   ]
  },
  {
   "cell_type": "code",
   "execution_count": 11,
   "metadata": {
    "colab": {
     "base_uri": "https://localhost:8080/",
     "height": 109
    },
    "id": "pwvuGk-13Itd",
    "outputId": "3976f628-cc49-4f2b-f8e5-ccb8047bcd7f"
   },
   "outputs": [
    {
     "data": {
      "text/html": [
       "<div>\n",
       "<style scoped>\n",
       "    .dataframe tbody tr th:only-of-type {\n",
       "        vertical-align: middle;\n",
       "    }\n",
       "\n",
       "    .dataframe tbody tr th {\n",
       "        vertical-align: top;\n",
       "    }\n",
       "\n",
       "    .dataframe thead th {\n",
       "        text-align: right;\n",
       "    }\n",
       "</style>\n",
       "<table border=\"1\" class=\"dataframe\">\n",
       "  <thead>\n",
       "    <tr style=\"text-align: right;\">\n",
       "      <th></th>\n",
       "      <th>Day</th>\n",
       "      <th>Month</th>\n",
       "      <th>Year</th>\n",
       "      <th>Amount Credited</th>\n",
       "      <th>Amount Left</th>\n",
       "      <th>Day Type</th>\n",
       "    </tr>\n",
       "  </thead>\n",
       "  <tbody>\n",
       "    <tr>\n",
       "      <th>Day</th>\n",
       "      <td>1.000000</td>\n",
       "      <td>0.027265</td>\n",
       "      <td>-0.029588</td>\n",
       "      <td>0.106573</td>\n",
       "      <td>0.107511</td>\n",
       "      <td>0.221435</td>\n",
       "    </tr>\n",
       "    <tr>\n",
       "      <th>Month</th>\n",
       "      <td>0.027265</td>\n",
       "      <td>1.000000</td>\n",
       "      <td>-0.388846</td>\n",
       "      <td>0.033106</td>\n",
       "      <td>0.035026</td>\n",
       "      <td>0.000631</td>\n",
       "    </tr>\n",
       "    <tr>\n",
       "      <th>Year</th>\n",
       "      <td>-0.029588</td>\n",
       "      <td>-0.388846</td>\n",
       "      <td>1.000000</td>\n",
       "      <td>0.093319</td>\n",
       "      <td>0.094452</td>\n",
       "      <td>-0.009253</td>\n",
       "    </tr>\n",
       "    <tr>\n",
       "      <th>Amount Credited</th>\n",
       "      <td>0.106573</td>\n",
       "      <td>0.033106</td>\n",
       "      <td>0.093319</td>\n",
       "      <td>1.000000</td>\n",
       "      <td>0.996650</td>\n",
       "      <td>0.151274</td>\n",
       "    </tr>\n",
       "    <tr>\n",
       "      <th>Amount Left</th>\n",
       "      <td>0.107511</td>\n",
       "      <td>0.035026</td>\n",
       "      <td>0.094452</td>\n",
       "      <td>0.996650</td>\n",
       "      <td>1.000000</td>\n",
       "      <td>0.135559</td>\n",
       "    </tr>\n",
       "    <tr>\n",
       "      <th>Day Type</th>\n",
       "      <td>0.221435</td>\n",
       "      <td>0.000631</td>\n",
       "      <td>-0.009253</td>\n",
       "      <td>0.151274</td>\n",
       "      <td>0.135559</td>\n",
       "      <td>1.000000</td>\n",
       "    </tr>\n",
       "  </tbody>\n",
       "</table>\n",
       "</div>"
      ],
      "text/plain": [
       "                      Day     Month      Year  Amount Credited  Amount Left  \\\n",
       "Day              1.000000  0.027265 -0.029588         0.106573     0.107511   \n",
       "Month            0.027265  1.000000 -0.388846         0.033106     0.035026   \n",
       "Year            -0.029588 -0.388846  1.000000         0.093319     0.094452   \n",
       "Amount Credited  0.106573  0.033106  0.093319         1.000000     0.996650   \n",
       "Amount Left      0.107511  0.035026  0.094452         0.996650     1.000000   \n",
       "Day Type         0.221435  0.000631 -0.009253         0.151274     0.135559   \n",
       "\n",
       "                 Day Type  \n",
       "Day              0.221435  \n",
       "Month            0.000631  \n",
       "Year            -0.009253  \n",
       "Amount Credited  0.151274  \n",
       "Amount Left      0.135559  \n",
       "Day Type         1.000000  "
      ]
     },
     "execution_count": 11,
     "metadata": {},
     "output_type": "execute_result"
    }
   ],
   "source": [
    "# Como un primer análisis establecemos la correlación entre variables\n",
    "\n",
    "# Se elimina el campo de fecha que es tipo Date.\n",
    "fondeoSinFecha = fondeoDF.drop(columns=['Date'])\n",
    "\n",
    "corrVar = fondeoSinFecha.corr()\n",
    "corrVar"
   ]
  },
  {
   "cell_type": "code",
   "execution_count": 12,
   "metadata": {},
   "outputs": [
    {
     "data": {
      "text/plain": [
       "<Axes: >"
      ]
     },
     "execution_count": 12,
     "metadata": {},
     "output_type": "execute_result"
    },
    {
     "data": {
      "image/png": "[encoded data removed]",
      "text/plain": [
       "<Figure size 1500x1000 with 2 Axes>"
      ]
     },
     "metadata": {},
     "output_type": "display_data"
    }
   ],
   "source": [
    "# Imprimiendo la correlación en un mapa de calor\n",
    "\n",
    "sns.set( rc= {'figure.figsize':(15, 10)})\n",
    "sns.heatmap( corrVar, vmin = -1, vmax = 1, square=True, annot = True)"
   ]
  },
  {
   "cell_type": "code",
   "execution_count": 13,
   "metadata": {},
   "outputs": [
    {
     "data": {
      "text/plain": [
       "<Axes: >"
      ]
     },
     "execution_count": 13,
     "metadata": {},
     "output_type": "execute_result"
    },
    {
     "data": {
      "image/png": "[encoded data removed]",
      "text/plain": [
       "<Figure size 2500x1000 with 1 Axes>"
      ]
     },
     "metadata": {},
     "output_type": "display_data"
    }
   ],
   "source": [
    "# Generando un bloxplot con las variables del dataset\n",
    "fondeoDF.boxplot(figsize=(25,10))"
   ]
  },
  {
   "cell_type": "code",
   "execution_count": 14,
   "metadata": {},
   "outputs": [
    {
     "data": {
      "text/plain": [
       "array([[<Axes: title={'center': 'Amount Credited'}>,\n",
       "        <Axes: title={'center': 'Amount Left'}>],\n",
       "       [<Axes: title={'center': 'Day Type'}>, <Axes: >]], dtype=object)"
      ]
     },
     "execution_count": 14,
     "metadata": {},
     "output_type": "execute_result"
    },
    {
     "data": {
      "image/png": "[encoded data removed]",
      "text/plain": [
       "<Figure size 2500x1000 with 4 Axes>"
      ]
     },
     "metadata": {},
     "output_type": "display_data"
    }
   ],
   "source": [
    "# Se generan los histogramas de las 2 variables principales y también el Day Type\n",
    "fondeoDFSinFecha = fondeoDF.drop(columns=['Day', 'Month', 'Year', 'Date'])\n",
    "fondeoDFSinFecha.hist( bins=10 ,figsize=(25,10))"
   ]
  },
  {
   "cell_type": "markdown",
   "metadata": {},
   "source": [
    "Paso 4 - Realizando un análisis dirigido a las variables principales"
   ]
  },
  {
   "cell_type": "markdown",
   "metadata": {},
   "source": [
    "De la gráfica de correlación se puede observar que las dos variables de monto son las que tienen la mayor asociación con el resto de las variables por lo que éstas pueden elegirse para continuar el análisis.\n",
    "\n",
    "Las variables resultantes son:\n",
    "- X1 - Amount credited\n",
    "- X2 - Amount left"
   ]
  },
  {
   "cell_type": "code",
   "execution_count": 15,
   "metadata": {},
   "outputs": [
    {
     "data": {
      "text/html": [
       "<div>\n",
       "<style scoped>\n",
       "    .dataframe tbody tr th:only-of-type {\n",
       "        vertical-align: middle;\n",
       "    }\n",
       "\n",
       "    .dataframe tbody tr th {\n",
       "        vertical-align: top;\n",
       "    }\n",
       "\n",
       "    .dataframe thead th {\n",
       "        text-align: right;\n",
       "    }\n",
       "</style>\n",
       "<table border=\"1\" class=\"dataframe\">\n",
       "  <thead>\n",
       "    <tr style=\"text-align: right;\">\n",
       "      <th></th>\n",
       "      <th>Amount Credited</th>\n",
       "      <th>Amount Left</th>\n",
       "    </tr>\n",
       "  </thead>\n",
       "  <tbody>\n",
       "    <tr>\n",
       "      <th>0</th>\n",
       "      <td>1.040468e+07</td>\n",
       "      <td>7921941.905</td>\n",
       "    </tr>\n",
       "    <tr>\n",
       "      <th>1</th>\n",
       "      <td>8.616164e+06</td>\n",
       "      <td>7062377.510</td>\n",
       "    </tr>\n",
       "    <tr>\n",
       "      <th>2</th>\n",
       "      <td>7.872212e+06</td>\n",
       "      <td>6372551.002</td>\n",
       "    </tr>\n",
       "    <tr>\n",
       "      <th>3</th>\n",
       "      <td>7.835058e+06</td>\n",
       "      <td>6331527.590</td>\n",
       "    </tr>\n",
       "    <tr>\n",
       "      <th>4</th>\n",
       "      <td>8.701642e+06</td>\n",
       "      <td>7060386.510</td>\n",
       "    </tr>\n",
       "  </tbody>\n",
       "</table>\n",
       "</div>"
      ],
      "text/plain": [
       "   Amount Credited  Amount Left\n",
       "0     1.040468e+07  7921941.905\n",
       "1     8.616164e+06  7062377.510\n",
       "2     7.872212e+06  6372551.002\n",
       "3     7.835058e+06  6331527.590\n",
       "4     8.701642e+06  7060386.510"
      ]
     },
     "execution_count": 15,
     "metadata": {},
     "output_type": "execute_result"
    }
   ],
   "source": [
    "# Obtenemos una copia del Dataframe pero solo con las columnas del análisis\n",
    "newDF = fondeoDF.iloc[:,3:5]\n",
    "\n",
    "# Revisamos contenido\n",
    "newDF.head()"
   ]
  },
  {
   "cell_type": "code",
   "execution_count": 16,
   "metadata": {},
   "outputs": [
    {
     "data": {
      "text/html": [
       "<div>\n",
       "<style scoped>\n",
       "    .dataframe tbody tr th:only-of-type {\n",
       "        vertical-align: middle;\n",
       "    }\n",
       "\n",
       "    .dataframe tbody tr th {\n",
       "        vertical-align: top;\n",
       "    }\n",
       "\n",
       "    .dataframe thead th {\n",
       "        text-align: right;\n",
       "    }\n",
       "</style>\n",
       "<table border=\"1\" class=\"dataframe\">\n",
       "  <thead>\n",
       "    <tr style=\"text-align: right;\">\n",
       "      <th></th>\n",
       "      <th>X1</th>\n",
       "      <th>X2</th>\n",
       "    </tr>\n",
       "  </thead>\n",
       "  <tbody>\n",
       "    <tr>\n",
       "      <th>0</th>\n",
       "      <td>0.284159</td>\n",
       "      <td>0.244425</td>\n",
       "    </tr>\n",
       "    <tr>\n",
       "      <th>1</th>\n",
       "      <td>-0.036044</td>\n",
       "      <td>0.055958</td>\n",
       "    </tr>\n",
       "    <tr>\n",
       "      <th>2</th>\n",
       "      <td>-0.169235</td>\n",
       "      <td>-0.095292</td>\n",
       "    </tr>\n",
       "    <tr>\n",
       "      <th>3</th>\n",
       "      <td>-0.175886</td>\n",
       "      <td>-0.104286</td>\n",
       "    </tr>\n",
       "    <tr>\n",
       "      <th>4</th>\n",
       "      <td>-0.020740</td>\n",
       "      <td>0.055522</td>\n",
       "    </tr>\n",
       "    <tr>\n",
       "      <th>...</th>\n",
       "      <td>...</td>\n",
       "      <td>...</td>\n",
       "    </tr>\n",
       "    <tr>\n",
       "      <th>963</th>\n",
       "      <td>-1.545623</td>\n",
       "      <td>-1.527462</td>\n",
       "    </tr>\n",
       "    <tr>\n",
       "      <th>964</th>\n",
       "      <td>1.333176</td>\n",
       "      <td>1.300038</td>\n",
       "    </tr>\n",
       "    <tr>\n",
       "      <th>965</th>\n",
       "      <td>-1.068340</td>\n",
       "      <td>-1.276823</td>\n",
       "    </tr>\n",
       "    <tr>\n",
       "      <th>966</th>\n",
       "      <td>0.476288</td>\n",
       "      <td>0.630469</td>\n",
       "    </tr>\n",
       "    <tr>\n",
       "      <th>967</th>\n",
       "      <td>0.679598</td>\n",
       "      <td>0.689248</td>\n",
       "    </tr>\n",
       "  </tbody>\n",
       "</table>\n",
       "<p>968 rows × 2 columns</p>\n",
       "</div>"
      ],
      "text/plain": [
       "           X1        X2\n",
       "0    0.284159  0.244425\n",
       "1   -0.036044  0.055958\n",
       "2   -0.169235 -0.095292\n",
       "3   -0.175886 -0.104286\n",
       "4   -0.020740  0.055522\n",
       "..        ...       ...\n",
       "963 -1.545623 -1.527462\n",
       "964  1.333176  1.300038\n",
       "965 -1.068340 -1.276823\n",
       "966  0.476288  0.630469\n",
       "967  0.679598  0.689248\n",
       "\n",
       "[968 rows x 2 columns]"
      ]
     },
     "execution_count": 16,
     "metadata": {},
     "output_type": "execute_result"
    }
   ],
   "source": [
    "# Normalizar los datos a la misma escala, ya que una varible es Edad la otra es Monto y de manera natural son distantes\n",
    "\n",
    "normalDF = pd.DataFrame(preprocessing.scale(newDF))\n",
    "normalDF.columns= [\"X1\",\"X2\"]\n",
    "normalDF"
   ]
  },
  {
   "cell_type": "code",
   "execution_count": 17,
   "metadata": {},
   "outputs": [
    {
     "name": "stdout",
     "output_type": "stream",
     "text": [
      "Arreglo de Varianza: \n",
      "[[1.00103413 0.99768084]\n",
      " [0.99768084 1.00103413]]\n",
      "\n",
      "\n",
      "Total Varianza \t\t: 2.0\n",
      "Varianza prop. of X1 \t: 50.0 %\n",
      "Varianza prop. of X2 \t: 50.0 %\n"
     ]
    }
   ],
   "source": [
    "# Ahora se calcula el arreglo de la varianza\n",
    "\n",
    "Variance = np.cov([normalDF.X1, normalDF.X2])\n",
    "print(\"Arreglo de Varianza: \\n\" + str(Variance))\n",
    "\n",
    "t= normalDF.var().sum() #Cálculo total de Varianza\n",
    "varX1 =Variance[0][0] #Varianza Total de X1\n",
    "varX2 = Variance[1][1] #Varianza Total de X5\n",
    "\n",
    "print(\"\\n\")\n",
    "print('Total Varianza \\t\\t:', t.round(2) )\n",
    "print('Varianza prop. of X1 \\t:', ((varX1/t)*100).round(2),'%' )\n",
    "print('Varianza prop. of X2 \\t:', ((varX2/t)*100).round(2),'%' )"
   ]
  },
  {
   "cell_type": "code",
   "execution_count": 18,
   "metadata": {},
   "outputs": [
    {
     "data": {
      "text/plain": [
       "<Axes: xlabel='X1', ylabel='X2'>"
      ]
     },
     "execution_count": 18,
     "metadata": {},
     "output_type": "execute_result"
    },
    {
     "data": {
      "image/png": "[encoded data removed]",
      "text/plain": [
       "<Figure size 1500x1000 with 1 Axes>"
      ]
     },
     "metadata": {},
     "output_type": "display_data"
    }
   ],
   "source": [
    "# Generamos la gráfica normalizada\n",
    "\n",
    "p = sns.regplot(data = fondeoDF,  \n",
    "                x = normalDF.X1, \n",
    "                y = normalDF.X2\n",
    "               ) \n",
    "p"
   ]
  },
  {
   "cell_type": "code",
   "execution_count": 19,
   "metadata": {},
   "outputs": [
    {
     "data": {
      "text/html": [
       "<div>\n",
       "<style scoped>\n",
       "    .dataframe tbody tr th:only-of-type {\n",
       "        vertical-align: middle;\n",
       "    }\n",
       "\n",
       "    .dataframe tbody tr th {\n",
       "        vertical-align: top;\n",
       "    }\n",
       "\n",
       "    .dataframe thead th {\n",
       "        text-align: right;\n",
       "    }\n",
       "</style>\n",
       "<table border=\"1\" class=\"dataframe\">\n",
       "  <thead>\n",
       "    <tr style=\"text-align: right;\">\n",
       "      <th></th>\n",
       "      <th>X1</th>\n",
       "      <th>X2</th>\n",
       "    </tr>\n",
       "  </thead>\n",
       "  <tbody>\n",
       "    <tr>\n",
       "      <th>Standard deviation</th>\n",
       "      <td>1.413759</td>\n",
       "      <td>0.057908</td>\n",
       "    </tr>\n",
       "    <tr>\n",
       "      <th>Proportion of variance</th>\n",
       "      <td>0.998325</td>\n",
       "      <td>0.001675</td>\n",
       "    </tr>\n",
       "    <tr>\n",
       "      <th>Cumulative proportion</th>\n",
       "      <td>0.998325</td>\n",
       "      <td>1.000000</td>\n",
       "    </tr>\n",
       "  </tbody>\n",
       "</table>\n",
       "</div>"
      ],
      "text/plain": [
       "                              X1        X2\n",
       "Standard deviation      1.413759  0.057908\n",
       "Proportion of variance  0.998325  0.001675\n",
       "Cumulative proportion   0.998325  1.000000"
      ]
     },
     "execution_count": 19,
     "metadata": {},
     "output_type": "execute_result"
    }
   ],
   "source": [
    "# Generando un nuevo resumen sobre los datos normalizados utilizando PCA\n",
    "\n",
    "pcs = PCA(n_components=2)\n",
    "\n",
    "pcs.fit(normalDF[['X1', 'X2']])\n",
    "\n",
    "pcsSummary = pd.DataFrame({'Standard deviation': np.sqrt(pcs.explained_variance_),\n",
    "                          'Proportion of variance': pcs.explained_variance_ratio_,\n",
    "                          'Cumulative proportion': np.cumsum(pcs.explained_variance_ratio_)#column \n",
    "                          }\n",
    "                          )\n",
    "pcsSummary = pcsSummary.transpose()\n",
    "pcsSummary.columns = [\"X1\", \"X2\"]\n",
    "pcsSummary"
   ]
  },
  {
   "cell_type": "code",
   "execution_count": 20,
   "metadata": {},
   "outputs": [
    {
     "data": {
      "text/html": [
       "<div>\n",
       "<style scoped>\n",
       "    .dataframe tbody tr th:only-of-type {\n",
       "        vertical-align: middle;\n",
       "    }\n",
       "\n",
       "    .dataframe tbody tr th {\n",
       "        vertical-align: top;\n",
       "    }\n",
       "\n",
       "    .dataframe thead th {\n",
       "        text-align: right;\n",
       "    }\n",
       "</style>\n",
       "<table border=\"1\" class=\"dataframe\">\n",
       "  <thead>\n",
       "    <tr style=\"text-align: right;\">\n",
       "      <th></th>\n",
       "      <th>X1</th>\n",
       "      <th>X2</th>\n",
       "    </tr>\n",
       "  </thead>\n",
       "  <tbody>\n",
       "    <tr>\n",
       "      <th>count</th>\n",
       "      <td>9.680000e+02</td>\n",
       "      <td>968.000000</td>\n",
       "    </tr>\n",
       "    <tr>\n",
       "      <th>mean</th>\n",
       "      <td>2.936127e-17</td>\n",
       "      <td>0.000000</td>\n",
       "    </tr>\n",
       "    <tr>\n",
       "      <th>std</th>\n",
       "      <td>1.000517e+00</td>\n",
       "      <td>1.000517</td>\n",
       "    </tr>\n",
       "    <tr>\n",
       "      <th>min</th>\n",
       "      <td>-1.578612e+00</td>\n",
       "      <td>-1.570694</td>\n",
       "    </tr>\n",
       "    <tr>\n",
       "      <th>25%</th>\n",
       "      <td>-9.267264e-01</td>\n",
       "      <td>-1.022001</td>\n",
       "    </tr>\n",
       "    <tr>\n",
       "      <th>50%</th>\n",
       "      <td>2.358670e-01</td>\n",
       "      <td>0.236303</td>\n",
       "    </tr>\n",
       "    <tr>\n",
       "      <th>75%</th>\n",
       "      <td>6.774310e-01</td>\n",
       "      <td>0.703057</td>\n",
       "    </tr>\n",
       "    <tr>\n",
       "      <th>max</th>\n",
       "      <td>4.609507e+00</td>\n",
       "      <td>4.141327</td>\n",
       "    </tr>\n",
       "  </tbody>\n",
       "</table>\n",
       "</div>"
      ],
      "text/plain": [
       "                 X1          X2\n",
       "count  9.680000e+02  968.000000\n",
       "mean   2.936127e-17    0.000000\n",
       "std    1.000517e+00    1.000517\n",
       "min   -1.578612e+00   -1.570694\n",
       "25%   -9.267264e-01   -1.022001\n",
       "50%    2.358670e-01    0.236303\n",
       "75%    6.774310e-01    0.703057\n",
       "max    4.609507e+00    4.141327"
      ]
     },
     "execution_count": 20,
     "metadata": {},
     "output_type": "execute_result"
    }
   ],
   "source": [
    "normalDF.describe()"
   ]
  },
  {
   "cell_type": "markdown",
   "metadata": {},
   "source": [
    "# CONCLUSIONES\n",
    "\n",
    "¿Hay valores faltantes en el conjunto de datos? ¿Se pueden identificar patrones de ausencia? \n",
    "- Si hay valores faltante y corresponden principlamente a aquellos valores de fin de semana donde normalmente no opera la tesorería de un banco.\n",
    "\n",
    "\n",
    "¿Cuáles son las estadísticas resumidas del conjunto de datos?\n",
    "- La cantidad de la muestra es de 1012 elementos, empezando en junio del 2020 hasta marzo del 2023, antes de la limpieza de datos se tienen los siguientes valores principales:\n",
    "\n",
    "                Amount Credited\tAmount Left\t    Day Type\n",
    "\n",
    "count\t        9.680000e+02\t9.680000e+02\t968.000000\n",
    "\n",
    "mean\t        8.817488e+06\t6.807160e+06\t1.066116\n",
    "\n",
    "std\t            5.588481e+06\t4.563191e+06\t0.248613\n",
    "\n",
    "min\t            2.882250e+00\t-3.565154e+05\t1.000000\n",
    "\n",
    "25%\t            3.641171e+06\t2.145982e+06\t1.000000\n",
    "\n",
    "50%\t            1.013495e+07\t7.884900e+06\t1.000000\n",
    "\n",
    "75%\t            1.260134e+07\t1.001369e+07\t1.000000\n",
    "\n",
    "max\t            3.456432e+07\t2.569507e+07\t2.000000\n",
    "\n",
    "\n",
    "¿Hay valores atípicos en el conjunto de datos?\n",
    "- Practicamente no hay atípicos, existe un valor que se presume es un error en los registros y se está verificando, se estará limpiando durante los siguientes procesos.\n",
    "\n",
    "¿Cuál es la cardinalidad de las variables categóricas?\n",
    "- Hay pocas variables categóricas, solamente el Tipo de día ( Cardinalidad 2: Pico o Normal ) y los días de la semana (Cardinalidad 7) que sí están integrados en el set de datos.\n",
    "\n",
    "¿Existen distribuciones sesgadas en el conjunto de datos? ¿Necesitamos aplicar alguna transformación no lineal?\n",
    "- No se considera necesario una transformación no lineal.\n",
    "\n",
    "¿Se identifican tendencias temporales? (En caso de que el conjunto incluya una dimensión de tiempo).\n",
    "- No todavía, el análisis inicial no está arrojando una tendencia temporal pero se espera que eso se genere con un proceso más avanzado.\n",
    "\n",
    "¿Hay correlación entre las variables dependientes e independientes?\n",
    "- Muy reducida, la relación principal es entre los montos acreditados y los montos debitados.\n",
    "\n",
    "¿Cómo se distribuyen los datos en función de diferentes categorías?\n",
    "- Principalmente se distribuyen entre los días de operación normal y los días de operación pico que tienden a presentar variantes ya que continuamente incluyen fines de semana o días festivos.\n",
    "\n",
    "¿Existen patrones o agrupaciones (clusters) en los datos con características similares?\n",
    "- No ha sido posible determinarlo, hay que postprocesar todavía la información.\n",
    "\n",
    "¿Se deberían normalizar las imágenes para visualizarlas mejor?\n",
    "- No aplica el proceso para nuestro dataset\n",
    "\n",
    "¿Hay desequilibrio en las clases de la variable objetivo?\n",
    "- No se detecta un desequilibrio en las clases ya que se los tamaños de las clases son del mismo tamaño y gráficamente no se observa un desequilibrio ya que prácticamente no existen valores atípicos."
   ]
  }
 ],
 "metadata": {
  "colab": {
   "collapsed_sections": [],
   "provenance": []
  },
  "kernelspec": {
   "display_name": "Python 3.10.4 64-bit",
   "language": "python",
   "name": "python3"
  },
  "language_info": {
   "codemirror_mode": {
    "name": "ipython",
    "version": 3
   },
   "file_extension": ".py",
   "mimetype": "text/x-python",
   "name": "python",
   "nbconvert_exporter": "python",
   "pygments_lexer": "ipython3",
   "version": "3.11.4"
  },
  "vscode": {
   "interpreter": {
    "hash": "dbf227170861aa35de2ea8c890cc2cfec69ae9586cdab632ac506279a0aac556"
   }
  }
 },
 "nbformat": 4,
 "nbformat_minor": 1
}
